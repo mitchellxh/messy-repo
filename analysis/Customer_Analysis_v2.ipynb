{
 "cells": [
  {
   "cell_type": "markdown",
   "metadata": {},
   "source": [
    "# Customer Data Analysis - Version 2\n",
    "\n",
    "Updated analysis with better visualizations.\n",
    "Previous version had some bugs in the calculations."
   ]
  },
  {
   "cell_type": "code",
   "execution_count": null,
   "metadata": {},
   "outputs": [],
   "source": [
    "import pandas as pd\n",
    "import matplotlib.pyplot as plt\n",
    "import seaborn as sns\n",
    "\n",
    "# Load customer data\n",
    "customers = pd.read_csv('../raw_data/customer_data_raw.csv')\n",
    "print(f\"Loaded {len(customers)} customer records\")\n",
    "customers.head()"
   ]
  },
  {
   "cell_type": "code",
   "execution_count": null,
   "metadata": {},
   "outputs": [],
   "source": [
    "# Revenue analysis\n",
    "total_revenue = customers['Amount'].sum()\n",
    "avg_purchase = customers['Amount'].mean()\n",
    "\n",
    "print(f\"Total Revenue: ${total_revenue:.2f}\")\n",
    "print(f\"Average Purchase: ${avg_purchase:.2f}\")"
   ]
  },
  {
   "cell_type": "code",
   "execution_count": null,
   "metadata": {},
   "outputs": [],
   "source": [
    "# Create histogram of purchase amounts\n",
    "plt.figure(figsize=(10, 6))\n",
    "plt.hist(customers['Amount'], bins=10, alpha=0.7, edgecolor='black')\n",
    "plt.title('Distribution of Purchase Amounts')\n",
    "plt.xlabel('Amount ($)')\n",
    "plt.ylabel('Frequency')\n",
    "plt.grid(True, alpha=0.3)\n",
    "plt.show()"
   ]
  },
  {
   "cell_type": "markdown",
   "metadata": {},
   "source": [
    "## TODO\n",
    "- [ ] Add customer segmentation analysis\n",
    "- [ ] Create dashboard\n",
    "- [ ] Export results to CSV"
   ]
  }
 ],
 "metadata": {
  "kernelspec": {
   "display_name": "Python 3",
   "language": "python",
   "name": "python3"
  },
  "language_info": {
   "codemirror_mode": {
    "name": "ipython",
    "version": 3
   },
   "file_extension": ".py",
   "name": "python",
   "nbconvert_exporter": "python",
   "pygments_lexer": "ipython3",
   "version": "3.9.7"
  }
 },
 "nbformat": 4,
 "nbformat_minor": 4
}