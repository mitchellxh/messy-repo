{
 "cells": [
  {
   "cell_type": "markdown",
   "metadata": {},
   "source": [
    "# Quick Data Check\n",
    "\n",
    "Just a quick notebook to check the data files.\n",
    "This might be outdated - check other notebooks too."
   ]
  },
  {
   "cell_type": "code",
   "execution_count": null,
   "metadata": {},
   "outputs": [],
   "source": [
    "# Quick check of CSV files\n",
    "import os\n",
    "print(\"Files in current directory:\")\n",
    "for f in os.listdir('.'):\n",
    "    if f.endswith('.csv'):\n",
    "        print(f\"- {f}\")"
   ]
  },
  {
   "cell_type": "code",
   "execution_count": null,
   "metadata": {},
   "outputs": [],
   "source": [
    "# Load and peek at data\n",
    "import pandas as pd\n",
    "\n",
    "# Try different file paths\n",
    "try:\n",
    "    df = pd.read_csv('data/sales_data.csv')\n",
    "    print(\"Found sales data!\")\n",
    "    print(df.shape)\n",
    "except:\n",
    "    print(\"Couldn't find sales data file\")"
   ]
  }
 ],
 "metadata": {
  "kernelspec": {
   "display_name": "Python 3",
   "language": "python",
   "name": "python3"
  },
  "language_info": {
   "name": "python",
   "version": "3.8.0"
  }
 },
 "nbformat": 4,
 "nbformat_minor": 4
}